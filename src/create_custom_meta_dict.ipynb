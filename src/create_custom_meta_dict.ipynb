{
 "cells": [
  {
   "cell_type": "code",
   "execution_count": 1,
   "metadata": {},
   "outputs": [],
   "source": [
    "import json"
   ]
  },
  {
   "cell_type": "code",
   "execution_count": 2,
   "metadata": {},
   "outputs": [],
   "source": [
    "meta_dict = {\n",
    "    'default':{\n",
    "        'date':(['date', 'dates', 'datetime'],('datetime', None)),\n",
    "        'type':(['type', 'transaction'],('object')),\n",
    "        'amount':(['amount', 'amounts'], ('numeric')),\n",
    "        'to':(['to'], 'numeric'),\n",
    "        'from':(['from'], 'numeric')\n",
    "    },\n",
    "    'bank2':{\n",
    "        'date':(['date'],('datetime', '%d-%m-%Y')),\n",
    "        'type':(['transaction'],('object')),\n",
    "        'amount':(['amounts'], ('numeric')),\n",
    "        'to':(['to'], 'numeric'),\n",
    "        'from':(['from'], 'numeric')\n",
    "    }\n",
    "}"
   ]
  },
  {
   "cell_type": "code",
   "execution_count": 3,
   "metadata": {},
   "outputs": [],
   "source": [
    "with open('test_dict.json', 'w') as f:\n",
    "    json.dump(meta_dict, f)"
   ]
  }
 ],
 "metadata": {
  "kernelspec": {
   "display_name": "Python [conda env:bank_merging] *",
   "language": "python",
   "name": "conda-env-bank_merging-py"
  },
  "language_info": {
   "codemirror_mode": {
    "name": "ipython",
    "version": 3
   },
   "file_extension": ".py",
   "mimetype": "text/x-python",
   "name": "python",
   "nbconvert_exporter": "python",
   "pygments_lexer": "ipython3",
   "version": "3.7.4"
  }
 },
 "nbformat": 4,
 "nbformat_minor": 2
}
